{
 "cells": [
  {
   "cell_type": "code",
   "execution_count": 9,
   "metadata": {},
   "outputs": [],
   "source": [
    "import numpy as np\n",
    "import random "
   ]
  },
  {
   "cell_type": "code",
   "execution_count": 4,
   "metadata": {},
   "outputs": [],
   "source": [
    "total_duration = 120\n",
    "nr_switches = 10\n",
    "\n",
    "assert total_duration  >= nr_switches >= 1"
   ]
  },
  {
   "cell_type": "code",
   "execution_count": 13,
   "metadata": {},
   "outputs": [
    {
     "name": "stdout",
     "output_type": "stream",
     "text": [
      "-1.0867981668624065\n",
      "10.913201833137594\n",
      "-0.3533318822727006\n",
      "11.6466681177273\n",
      "-1.5524305164181167\n",
      "10.447569483581884\n",
      "-0.39203954813328346\n",
      "11.607960451866717\n",
      "0.7416377350470469\n",
      "12.741637735047046\n",
      "-0.661466988071576\n",
      "11.338533011928424\n",
      "-1.5406675529666762\n",
      "10.459332447033324\n",
      "-0.08451755878051569\n",
      "11.915482441219485\n",
      "0.9420841284550925\n",
      "12.942084128455093\n",
      "1.772519232242037\n",
      "13.772519232242036\n",
      "total duration  117.78498888223889\n"
     ]
    }
   ],
   "source": [
    "# compute how long one trial would take in an equal split\n",
    "equal_duration = total_duration/nr_switches\n",
    "\n",
    "# draw jitters for every switch\n",
    "variance = 1\n",
    "jitter_list = []\n",
    "previous_jitter = 0\n",
    "total_time = []\n",
    "for i in range(nr_switches):\n",
    "    jitter = np.random.normal()\n",
    "    trial_time = equal_duration + jitter - previous_jitter\n",
    "    print(\"jitter\", jitter, \"trial time\", trial_time)\n",
    "    total_time.append(trial_time)\n",
    "    \n",
    "print('total duration ', np.array(total_time).sum())"
   ]
  }
 ],
 "metadata": {
  "kernelspec": {
   "display_name": "Python 3 (ipykernel)",
   "language": "python",
   "name": "python3"
  },
  "language_info": {
   "codemirror_mode": {
    "name": "ipython",
    "version": 3
   },
   "file_extension": ".py",
   "mimetype": "text/x-python",
   "name": "python",
   "nbconvert_exporter": "python",
   "pygments_lexer": "ipython3",
   "version": "3.8.3"
  }
 },
 "nbformat": 4,
 "nbformat_minor": 4
}
