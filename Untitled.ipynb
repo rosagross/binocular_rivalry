{
 "cells": [
  {
   "cell_type": "code",
   "execution_count": 9,
   "metadata": {},
   "outputs": [],
   "source": [
    "import numpy as np\n",
    "import random "
   ]
  },
  {
   "cell_type": "code",
   "execution_count": 4,
   "metadata": {},
   "outputs": [],
   "source": [
    "total_duration = 120\n",
    "nr_switches = 9\n",
    "\n",
    "assert total_duration  >= nr_switches >= 1"
   ]
  },
  {
   "cell_type": "code",
   "execution_count": 32,
   "metadata": {},
   "outputs": [
    {
     "name": "stdout",
     "output_type": "stream",
     "text": [
      "jitter 0.38965216726271384 trial time 13.389652167262714\n",
      "jitter -1.7231220060956403 trial time 11.27687799390436\n",
      "jitter 2.142486232821596 trial time 15.142486232821597\n",
      "jitter -0.49713575429595647 trial time 12.502864245704043\n",
      "jitter 0.2585696989660023 trial time 13.258569698966003\n",
      "jitter -1.0346086457913515 trial time 11.965391354208649\n",
      "jitter -0.09537932784568665 trial time 12.904620672154314\n",
      "jitter 1.7858234355260756 trial time 14.785823435526076\n",
      "jitter 0.11647942629933596 trial time 13.116479426299335\n",
      "total duration  118.34276522684709\n",
      "total duration  120.0\n",
      "10\n"
     ]
    }
   ],
   "source": [
    "# compute how long one trial would take in an equal split\n",
    "equal_duration = total_duration/nr_switches+1\n",
    "\n",
    "# draw jitters for every switch\n",
    "stdv = 1.5\n",
    "jitter_list = []\n",
    "previous_jitter = 0\n",
    "total_time = []\n",
    "for i in range(nr_switches-1):\n",
    "    jitter = np.random.normal()\n",
    "    trial_time = equal_duration + jitter\n",
    "    print(\"jitter\", jitter, \"trial time\", trial_time)\n",
    "    total_time.append(trial_time)\n",
    "    \n",
    "print('total duration ', np.array(total_time).sum())\n",
    "durations_sum = np.array(total_time).sum()\n",
    "duration_difference = total_duration - durations_sum\n",
    "# append whats missing to the last trial\n",
    "total_time.append(duration_difference)\n",
    "print('total duration ', np.array(total_time).sum())\n",
    "\n",
    "print(len(total_time))"
   ]
  }
 ],
 "metadata": {
  "kernelspec": {
   "display_name": "Python 3 (ipykernel)",
   "language": "python",
   "name": "python3"
  },
  "language_info": {
   "codemirror_mode": {
    "name": "ipython",
    "version": 3
   },
   "file_extension": ".py",
   "mimetype": "text/x-python",
   "name": "python",
   "nbconvert_exporter": "python",
   "pygments_lexer": "ipython3",
   "version": "3.8.3"
  }
 },
 "nbformat": 4,
 "nbformat_minor": 4
}
